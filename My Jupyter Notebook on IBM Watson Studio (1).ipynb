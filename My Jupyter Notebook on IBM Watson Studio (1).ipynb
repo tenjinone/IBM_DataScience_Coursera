{
 "cells": [
  {
   "cell_type": "markdown",
   "id": "c274f266-4ffc-49ad-9e91-6212ae9e00dc",
   "metadata": {},
   "source": [
    "# My Jupyter Notebook on IBM Watson Studio"
   ]
  },
  {
   "cell_type": "markdown",
   "id": "9a9944d9-82ec-444a-ace7-02df07564e21",
   "metadata": {},
   "source": [
    "**Jose Taunay**\n",
    "\n",
    "Machine Learning Engineer"
   ]
  },
  {
   "cell_type": "markdown",
   "id": "835fb13a-b794-460f-a51a-80cc9d915ea9",
   "metadata": {},
   "source": [
    "*I am interested in Data Science because I am fascinated by AI and machine learning.*"
   ]
  },
  {
   "cell_type": "markdown",
   "id": "6d3ce6f3-e7b5-4aec-a947-2a75e0f7b38a",
   "metadata": {},
   "source": [
    "### The code below is supposed to calculate the average between values from a list"
   ]
  },
  {
   "cell_type": "code",
   "execution_count": null,
   "id": "b63094b3-7314-4c68-927b-9e1a8a02bd55",
   "metadata": {},
   "outputs": [
    {
     "name": "stdout",
     "output_type": "stream",
     "text": [
      "The average value from the items on the list is 424.2\n"
     ]
    }
   ],
   "source": [
    "def calculate_average(num):\n",
    "    sum_numbers = 0\n",
    "    for x in num:\n",
    "        sum_numbers = sum_numbers + x           \n",
    "\n",
    "    average = sum_numbers / len(num)\n",
    "    return average\n",
    "\n",
    "print(\"The average value from the items on the list is\", calculate_average([1,20,0,100,2000]))"
   ]
  },
  {
   "cell_type": "markdown",
   "id": "9cf5302e-b040-4ac4-b45b-91b035d17c7f",
   "metadata": {},
   "source": [
    "---\n",
    "This cell will contain several of the mandatory criteria for submission.\n",
    "\n",
    "![alt text](https://cdn3.iconfinder.com/data/icons/free-social-icons/67/github_circle_black-128.png \"GitHub Logo\") I will create another GitHub for myself as a student. Is that a wise move?\n",
    "\n",
    "~~Probably not~~ Well, let's create a list of pros and cons!\n",
    "\n",
    "---\n",
    "\n",
    "> This is a list of the pros for creating another GitHub account\n",
    "\n",
    "1. I'd have separate repository to experiment with\n",
    "2. I would have clear goals for what each GitHub account is used\n",
    "\n",
    "> This is a list of the cons for creating another GitHub account\n",
    "\n",
    "1. I'd be wasting my time\n",
    "* I'd be wasting my time almost as much as I did by taking hours troubleshooting IBM Watson studio's several issues\n",
    "* Seriourly, it was an astounding amount of issues. Horrendous experience. \n",
    "\n",
    "| Pros        | Cons           |\n",
    "| ------------- |:-------------:|\n",
    "| Separate repos      | Waste of time\n",
    "| Clear goals for each account          \n",
    "\n",
    "---\n",
    "> Here is my ~~obviously fake~~ super real calculation to assess this matter:\n",
    "\n",
    "```python\n",
    "pros = 2\n",
    "cons = 1\n",
    "if pros > cons:\n",
    "  print(\"pros are greater than cons\")\n",
    "elif a == b:\n",
    "  print(\"pros and cons are equal\")\n",
    "else:\n",
    "  print(\"cons are greater than pros\")\n",
    "```\n",
    "\n",
    "---\n",
    "\n",
    "\n",
    "\n"
   ]
  },
  {
   "cell_type": "markdown",
   "id": "01f6710c-ae2d-4785-89fe-ede25e41dfbb",
   "metadata": {},
   "source": []
  }
 ],
 "metadata": {
  "kernelspec": {
   "display_name": "Python 3",
   "language": "python",
   "name": "python3"
  },
  "language_info": {
   "codemirror_mode": {
    "name": "ipython",
    "version": 3
   },
   "file_extension": ".py",
   "mimetype": "text/x-python",
   "name": "python",
   "nbconvert_exporter": "python",
   "pygments_lexer": "ipython3",
   "version": "3.7.8"
  }
 },
 "nbformat": 4,
 "nbformat_minor": 5
}
